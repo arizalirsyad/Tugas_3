{
 "cells": [
  {
   "cell_type": "code",
   "execution_count": 1,
   "id": "3f87f1b5-4861-440c-8950-3029efcf700b",
   "metadata": {},
   "outputs": [],
   "source": [
    "import numpy as np\n",
    "import pandas as pd\n",
    "import matplotlib.pyplot as plt"
   ]
  },
  {
   "cell_type": "code",
   "execution_count": 2,
   "id": "8257aead-3581-478f-aa40-e77e0c6e8438",
   "metadata": {},
   "outputs": [],
   "source": [
    "dataset = pd.read_csv('Data.csv', sep=';')\n",
    "x = dataset.iloc[:,:-1].values\n",
    "y = dataset.iloc[:,-1].values"
   ]
  },
  {
   "cell_type": "code",
   "execution_count": 3,
   "id": "40dbf008-36a5-4eb2-9e1f-06196dc4f79e",
   "metadata": {},
   "outputs": [
    {
     "name": "stdout",
     "output_type": "stream",
     "text": [
      "   country   age   salary purchased\n",
      "0   france  44.0  72000.0        no\n",
      "1    spain  27.0  48000.0       yes\n",
      "2  germany  30.0  54000.0        no\n",
      "3    spain  38.0  61000.0        no\n",
      "4  germany  40.0      NaN      yes \n"
     ]
    }
   ],
   "source": [
    "print(dataset.head())"
   ]
  },
  {
   "cell_type": "code",
   "execution_count": 4,
   "id": "a4698058-24be-4c0e-afe9-60b3cd067012",
   "metadata": {},
   "outputs": [
    {
     "name": "stdout",
     "output_type": "stream",
     "text": [
      "[['france' 44.0 72000.0]\n",
      " ['spain' 27.0 48000.0]\n",
      " ['germany' 30.0 54000.0]\n",
      " ['spain' 38.0 61000.0]\n",
      " ['germany' 40.0 nan]\n",
      " ['france' 35.0 58000.0]\n",
      " ['spain' nan 52000.0]\n",
      " ['france' 48.0 79000.0]\n",
      " ['germany' 50.0 83000.0]\n",
      " ['france' 37.0 67000.0]\n",
      " ['indonesia' 20.0 50000.0]\n",
      " ['france' 22.0 45000.0]\n",
      " ['indonesia' 45.0 21400.0]\n",
      " ['indonesia' 29.0 40000.0]]\n"
     ]
    }
   ],
   "source": [
    "print(x)"
   ]
  },
  {
   "cell_type": "code",
   "execution_count": 5,
   "id": "50d8b3a5-db30-4e4a-a515-2c0dc7cb12b3",
   "metadata": {},
   "outputs": [
    {
     "name": "stdout",
     "output_type": "stream",
     "text": [
      "['no' 'yes' 'no' 'no' 'yes ' 'yes' 'no' 'yes' 'no' 'yes' 'no' 'yes' 'no'\n",
      " 'no']\n"
     ]
    }
   ],
   "source": [
    "print(y)"
   ]
  },
  {
   "cell_type": "code",
   "execution_count": 6,
   "id": "82c280cd-127a-4446-81ce-e629a46365b1",
   "metadata": {},
   "outputs": [],
   "source": [
    "from sklearn.impute import SimpleImputer\n",
    "imputer = SimpleImputer(missing_values=np.nan, strategy='mean')\n",
    "imputer.fit(x[:,1:3])\n",
    "x[:, 1:3] = imputer.transform(x[:, 1:3])"
   ]
  },
  {
   "cell_type": "code",
   "execution_count": 7,
   "id": "f3bbb68c-6477-46ca-9f98-befd74294538",
   "metadata": {},
   "outputs": [
    {
     "name": "stdout",
     "output_type": "stream",
     "text": [
      "[['france' 44.0 72000.0]\n",
      " ['spain' 27.0 48000.0]\n",
      " ['germany' 30.0 54000.0]\n",
      " ['spain' 38.0 61000.0]\n",
      " ['germany' 40.0 56184.61538461538]\n",
      " ['france' 35.0 58000.0]\n",
      " ['spain' 35.76923076923077 52000.0]\n",
      " ['france' 48.0 79000.0]\n",
      " ['germany' 50.0 83000.0]\n",
      " ['france' 37.0 67000.0]\n",
      " ['indonesia' 20.0 50000.0]\n",
      " ['france' 22.0 45000.0]\n",
      " ['indonesia' 45.0 21400.0]\n",
      " ['indonesia' 29.0 40000.0]]\n"
     ]
    }
   ],
   "source": [
    "print(x)"
   ]
  },
  {
   "cell_type": "code",
   "execution_count": 8,
   "id": "43b40d51-374e-463f-8e41-290d99ceb2b4",
   "metadata": {},
   "outputs": [],
   "source": [
    "from sklearn.compose import ColumnTransformer\n",
    "from sklearn.preprocessing import OneHotEncoder\n",
    "ct = ColumnTransformer(transformers=[('encoder',OneHotEncoder(),[0])], remainder='passthrough')\n",
    "x = np.array(ct.fit_transform(x))"
   ]
  },
  {
   "cell_type": "code",
   "execution_count": 9,
   "id": "97764553-c10f-4c16-979c-2ae6d5d254b1",
   "metadata": {},
   "outputs": [
    {
     "name": "stdout",
     "output_type": "stream",
     "text": [
      "[[1.0 0.0 0.0 0.0 44.0 72000.0]\n",
      " [0.0 0.0 0.0 1.0 27.0 48000.0]\n",
      " [0.0 1.0 0.0 0.0 30.0 54000.0]\n",
      " [0.0 0.0 0.0 1.0 38.0 61000.0]\n",
      " [0.0 1.0 0.0 0.0 40.0 56184.61538461538]\n",
      " [1.0 0.0 0.0 0.0 35.0 58000.0]\n",
      " [0.0 0.0 0.0 1.0 35.76923076923077 52000.0]\n",
      " [1.0 0.0 0.0 0.0 48.0 79000.0]\n",
      " [0.0 1.0 0.0 0.0 50.0 83000.0]\n",
      " [1.0 0.0 0.0 0.0 37.0 67000.0]\n",
      " [0.0 0.0 1.0 0.0 20.0 50000.0]\n",
      " [1.0 0.0 0.0 0.0 22.0 45000.0]\n",
      " [0.0 0.0 1.0 0.0 45.0 21400.0]\n",
      " [0.0 0.0 1.0 0.0 29.0 40000.0]]\n"
     ]
    }
   ],
   "source": [
    "print(x)"
   ]
  },
  {
   "cell_type": "code",
   "execution_count": 10,
   "id": "7dbf7327-39c3-466a-ac57-aedef268a362",
   "metadata": {},
   "outputs": [],
   "source": [
    "from sklearn.preprocessing import LabelEncoder\n",
    "le = LabelEncoder()\n",
    "y = le.fit_transform(y)"
   ]
  },
  {
   "cell_type": "code",
   "execution_count": 11,
   "id": "98a71967-de33-4c97-b1d4-fc57f873e49e",
   "metadata": {},
   "outputs": [
    {
     "name": "stdout",
     "output_type": "stream",
     "text": [
      "[0 1 0 0 2 1 0 1 0 1 0 1 0 0]\n"
     ]
    }
   ],
   "source": [
    "print(y)"
   ]
  },
  {
   "cell_type": "code",
   "execution_count": 12,
   "id": "3463b7e6-f5dc-45b7-ab55-7b9aa81b8e7a",
   "metadata": {},
   "outputs": [],
   "source": [
    "from sklearn.model_selection import train_test_split\n",
    "x_train, x_test, y_train, y_test = train_test_split(x, y, test_size = 0.2, random_state = 1)"
   ]
  },
  {
   "cell_type": "code",
   "execution_count": 13,
   "id": "a6a9ae67-1eb8-4ed3-9757-57454ebe2772",
   "metadata": {},
   "outputs": [
    {
     "name": "stdout",
     "output_type": "stream",
     "text": [
      "[[0.0 1.0 0.0 0.0 30.0 54000.0]\n",
      " [0.0 0.0 1.0 0.0 20.0 50000.0]\n",
      " [0.0 1.0 0.0 0.0 40.0 56184.61538461538]\n",
      " [0.0 0.0 0.0 1.0 27.0 48000.0]\n",
      " [0.0 0.0 1.0 0.0 45.0 21400.0]\n",
      " [1.0 0.0 0.0 0.0 44.0 72000.0]\n",
      " [0.0 0.0 1.0 0.0 29.0 40000.0]\n",
      " [1.0 0.0 0.0 0.0 37.0 67000.0]\n",
      " [0.0 1.0 0.0 0.0 50.0 83000.0]\n",
      " [1.0 0.0 0.0 0.0 22.0 45000.0]\n",
      " [1.0 0.0 0.0 0.0 35.0 58000.0]]\n"
     ]
    }
   ],
   "source": [
    "print(x_train)"
   ]
  },
  {
   "cell_type": "code",
   "execution_count": 14,
   "id": "4db885a7-8ba1-419f-9888-e63d15efc491",
   "metadata": {},
   "outputs": [
    {
     "name": "stdout",
     "output_type": "stream",
     "text": [
      "[[0.0 0.0 0.0 1.0 38.0 61000.0]\n",
      " [1.0 0.0 0.0 0.0 48.0 79000.0]\n",
      " [0.0 0.0 0.0 1.0 35.76923076923077 52000.0]]\n"
     ]
    }
   ],
   "source": [
    "print(x_test)"
   ]
  },
  {
   "cell_type": "code",
   "execution_count": 15,
   "id": "f7c3d144-6b60-4b83-8d55-0135c136b9d7",
   "metadata": {},
   "outputs": [
    {
     "name": "stdout",
     "output_type": "stream",
     "text": [
      "[0 0 2 1 0 0 0 1 0 1 1]\n"
     ]
    }
   ],
   "source": [
    "print(y_train)"
   ]
  },
  {
   "cell_type": "code",
   "execution_count": 16,
   "id": "4d2022d3-7e70-4ba1-a9c7-dd065c59bd41",
   "metadata": {},
   "outputs": [
    {
     "name": "stdout",
     "output_type": "stream",
     "text": [
      "[0 1 0]\n"
     ]
    }
   ],
   "source": [
    "print(y_test)"
   ]
  },
  {
   "cell_type": "code",
   "execution_count": 17,
   "id": "10435543-8041-4c4e-b05f-86990ced367a",
   "metadata": {},
   "outputs": [],
   "source": [
    "from sklearn.preprocessing import StandardScaler\n",
    "sc = StandardScaler()\n",
    "x_train[:, 3:] = sc.fit_transform(x_train[:, 3:])\n",
    "x_test[:, 3:] = sc.fit_transform(x_test[:, 3:])"
   ]
  },
  {
   "cell_type": "code",
   "execution_count": 18,
   "id": "dc1426d0-5dd0-43ef-8007-ef32276e8c4e",
   "metadata": {},
   "outputs": [
    {
     "name": "stdout",
     "output_type": "stream",
     "text": [
      "[[0.0 1.0 0.0 -0.316227766016838 -0.4791502965599001\n",
      "  -0.003363442280190084]\n",
      " [0.0 0.0 1.0 -0.316227766016838 -1.5547938194494721 -0.25650672968398974]\n",
      " [0.0 1.0 0.0 -0.316227766016838 0.5964932263296719 0.13489173776342347]\n",
      " [0.0 0.0 0.0 3.16227766016838 -0.8018433534267717 -0.38307837338588957]\n",
      " [0.0 0.0 1.0 -0.316227766016838 1.1343149877744578 -2.066481234621157]\n",
      " [1.0 0.0 0.0 -0.316227766016838 1.0267506354855007 1.1357813510369084]\n",
      " [0.0 0.0 1.0 -0.316227766016838 -0.5867146488488574 -0.8893649481934889]\n",
      " [1.0 0.0 0.0 -0.316227766016838 0.2738001694628003 0.8193522417821588]\n",
      " [0.0 1.0 0.0 -0.316227766016838 1.6721367492192438 1.8319253913973574]\n",
      " [1.0 0.0 0.0 -0.316227766016838 -1.3396651148715577 -0.5729358389387393]\n",
      " [1.0 0.0 0.0 -0.316227766016838 0.058671464884885886 0.24977984512360957]]\n"
     ]
    }
   ],
   "source": [
    "print(x_train)"
   ]
  },
  {
   "cell_type": "code",
   "execution_count": 19,
   "id": "aaa6d04a-c02e-4b1c-93ab-a7f4fc6646a1",
   "metadata": {},
   "outputs": [
    {
     "name": "stdout",
     "output_type": "stream",
     "text": [
      "[[0.0 0.0 0.0 0.7071067811865476 -0.4869407000953254 -0.2672612419124244]\n",
      " [1.0 0.0 0.0 -1.414213562373095 1.3933253695796926 1.3363062095621219]\n",
      " [0.0 0.0 0.0 0.7071067811865476 -0.9063846694843684 -1.0690449676496976]]\n"
     ]
    }
   ],
   "source": [
    "print(x_test)"
   ]
  },
  {
   "cell_type": "code",
   "execution_count": null,
   "id": "36d3f2df-9a53-4688-bee8-42fadf4c2e7a",
   "metadata": {},
   "outputs": [],
   "source": []
  }
 ],
 "metadata": {
  "kernelspec": {
   "display_name": "Python 3 (ipykernel)",
   "language": "python",
   "name": "python3"
  },
  "language_info": {
   "codemirror_mode": {
    "name": "ipython",
    "version": 3
   },
   "file_extension": ".py",
   "mimetype": "text/x-python",
   "name": "python",
   "nbconvert_exporter": "python",
   "pygments_lexer": "ipython3",
   "version": "3.11.7"
  }
 },
 "nbformat": 4,
 "nbformat_minor": 5
}
